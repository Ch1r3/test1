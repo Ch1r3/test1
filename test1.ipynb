{
 "cells": [
  {
   "cell_type": "code",
   "execution_count": 5,
   "metadata": {},
   "outputs": [
    {
     "name": "stdout",
     "output_type": "stream",
     "text": [
      "```html\n",
      "<ul>\n",
      "    <li>敏感词：\"靠\"</li>\n",
      "    <li>敏感词：\"混蛋\"</li>\n",
      "    <li>敏感词：\"打死你\"</li>\n",
      "</ul>\n",
      "```\n"
     ]
    }
   ],
   "source": [
    "import os\n",
    "\n",
    "from zhipuai import ZhipuAI\n",
    "from IPython.display import display, Markdown, HTML\n",
    "\n",
    "client = ZhipuAI(\n",
    "  api_key=os.environ[\"ZHIPUAI_API_KEY\"]\n",
    " )\n",
    "\n",
    "def gen_glm_params(prompt):\n",
    "    messages = [{\"role\": \"user\", \"content\": prompt}]\n",
    "    return messages\n",
    "\n",
    "def get_completion(prompt, model=\"glm-4\", temperature=0.95):\n",
    "    messages = gen_glm_params(prompt)\n",
    "    response = client.chat.completions.create(\n",
    "    model=model,\n",
    "    messages=messages,\n",
    "    temperature=temperature\n",
    "    )\n",
    "    if len(response.choices) > 0:\n",
    "        return response.choices[0].message.content\n",
    "    return \"generate answer error\"\n",
    "\n",
    "def check_sensitive_words(review):\n",
    "    prompt_sensitive = f\"\"\"\n",
    "    你的任务是：根据通用敏感词库，帮我检测三个双引号中内容中是否含有敏感词。\\\n",
    "    如果没有敏感词，直接输出\"无敏感词\"。\\\n",
    "    如果有敏感词的话，使用HTML格式列出出所有的敏感词，和每个敏感词的敏感类型。\n",
    "\n",
    "    不需要说其他无关的提示信息，只展示HTML列表。\n",
    "\n",
    "    Review text:'''{review}'''\n",
    "    \"\"\"\n",
    "    return get_completion(prompt_sensitive)\n",
    "\n",
    "review1 = \"\"\"\n",
    "我靠，你真是个混蛋，我要打死你。\n",
    "\"\"\"\n",
    "review2 = \"\"\"\n",
    "你真是个好人，我要感谢你。\n",
    "\"\"\"\n",
    "review3 = \"\"\"\n",
    "这个地方真繁华，我们一把火烧了吧。\n",
    "\"\"\"\n",
    "\n",
    "result = check_sensitive_words(review1)\n",
    "print(result)\n",
    "#display(HTML(result))\n"
   ]
  },
  {
   "cell_type": "code",
   "execution_count": 6,
   "metadata": {},
   "outputs": [
    {
     "data": {
      "text/html": [
       "```html\n",
       "<ul>\n",
       "    <li>敏感词：\"靠\"</li>\n",
       "    <li>敏感词：\"混蛋\"</li>\n",
       "    <li>敏感词：\"打死你\"</li>\n",
       "</ul>\n",
       "```"
      ],
      "text/plain": [
       "<IPython.core.display.HTML object>"
      ]
     },
     "metadata": {},
     "output_type": "display_data"
    }
   ],
   "source": [
    "display(HTML(result))"
   ]
  }
 ],
 "metadata": {
  "kernelspec": {
   "display_name": "py311",
   "language": "python",
   "name": "python3"
  },
  "language_info": {
   "codemirror_mode": {
    "name": "ipython",
    "version": 3
   },
   "file_extension": ".py",
   "mimetype": "text/x-python",
   "name": "python",
   "nbconvert_exporter": "python",
   "pygments_lexer": "ipython3",
   "version": "3.11.5"
  }
 },
 "nbformat": 4,
 "nbformat_minor": 2
}
